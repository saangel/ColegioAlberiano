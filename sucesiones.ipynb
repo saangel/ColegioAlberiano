{
 "cells": [
  {
   "cell_type": "markdown",
   "metadata": {},
   "source": [
    "En este taller aprenderemos a representar sucesiones con listas en Python.\n",
    "\n",
    "Una sucesión es una secuencia de números que cumplen cierta \"periodicidad\". Ejemplos: 1,3,5,7,9... es una sucesión de números impares. Si lo notan, son los números que forman los términos de la sumatoria $$\\sum_{i=0}^n2i+1 $$.\n",
    "\n",
    "Veamos cómo los podemos representar. Primero, cargamos todos los paquetes necesarios:"
   ]
  },
  {
   "cell_type": "code",
   "execution_count": null,
   "metadata": {},
   "outputs": [],
   "source": [
    "import numpy as np\n",
    "import matplotlib.pyplot as plt\n",
    "%matplotlib inline"
   ]
  },
  {
   "cell_type": "markdown",
   "metadata": {},
   "source": [
    "La siguiente línea de código genera una lista de números que tienen cierta periodicidad, la que está determinada por el primer término dentro de los corchetes:"
   ]
  },
  {
   "cell_type": "code",
   "execution_count": null,
   "metadata": {},
   "outputs": [],
   "source": [
    "lista= [i*2-1 for i in range(1,101)]\n",
    "print(lista)"
   ]
  },
  {
   "cell_type": "markdown",
   "metadata": {},
   "source": [
    "Entonces, lo que escribimos es [términos for i in range(límite inferior, límite superior+1)]\n",
    "\n",
    "Ejercicio: modifique el código de arriba para generar la lísta de los primeros 150 números impares."
   ]
  },
  {
   "cell_type": "code",
   "execution_count": null,
   "metadata": {},
   "outputs": [],
   "source": [
    "#escriba acá su respuesta\n",
    "\n"
   ]
  },
  {
   "cell_type": "markdown",
   "metadata": {},
   "source": [
    "Para calcular las sumas de sucesiones, puede usar el comando np.sum(). Ejemplo:"
   ]
  },
  {
   "cell_type": "code",
   "execution_count": null,
   "metadata": {},
   "outputs": [],
   "source": [
    "lista=[i for i in range(1,101)]\n",
    "print(lista)\n",
    "sumlista=np.sum(lista)\n",
    "print(sumlista)"
   ]
  },
  {
   "cell_type": "markdown",
   "metadata": {},
   "source": [
    "Recuerde que las operaciones típicas se pueden aplicar en Python:"
   ]
  },
  {
   "cell_type": "code",
   "execution_count": null,
   "metadata": {},
   "outputs": [],
   "source": [
    "i=9.0\n",
    "print(i)\n",
    "print(i+3)\n",
    "print(i-5)\n",
    "print(3*i)\n",
    "print(i/2)\n",
    "print(i**3)\n",
    "print(np.sqrt(i))\n",
    "print(np.log10(i))"
   ]
  },
  {
   "cell_type": "markdown",
   "metadata": {},
   "source": [
    "Genere, entonces, las siguientes sucesiones, y calcule la suma:\n",
    "* Los números pares hasta 100\n",
    "* Los números impares hasta 200\n",
    "* Los números cuadrados perfectos menores de 250"
   ]
  },
  {
   "cell_type": "code",
   "execution_count": null,
   "metadata": {},
   "outputs": [],
   "source": []
  },
  {
   "cell_type": "code",
   "execution_count": null,
   "metadata": {},
   "outputs": [],
   "source": []
  },
  {
   "cell_type": "code",
   "execution_count": null,
   "metadata": {},
   "outputs": [],
   "source": []
  },
  {
   "cell_type": "code",
   "execution_count": null,
   "metadata": {},
   "outputs": [],
   "source": []
  },
  {
   "cell_type": "code",
   "execution_count": null,
   "metadata": {},
   "outputs": [],
   "source": []
  }
 ],
 "metadata": {
  "kernelspec": {
   "display_name": "Python 2",
   "language": "python",
   "name": "python2"
  },
  "language_info": {
   "codemirror_mode": {
    "name": "ipython",
    "version": 3
   },
   "file_extension": ".py",
   "mimetype": "text/x-python",
   "name": "python",
   "nbconvert_exporter": "python",
   "pygments_lexer": "ipython3",
   "version": "3.7.2"
  }
 },
 "nbformat": 4,
 "nbformat_minor": 1
}
